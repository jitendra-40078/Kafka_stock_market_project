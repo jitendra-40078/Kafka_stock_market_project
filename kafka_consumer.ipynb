{
  "cells": [
    {
      "cell_type": "code",
      "execution_count": null,
      "id": "7a64fc7d",
      "metadata": {
        "id": "7a64fc7d"
      },
      "outputs": [],
      "source": [
        "# here importing kafkaCosumer form kafka\n",
        "from kafka import KafkaConsumer\n",
        "\n",
        "from time import sleep\n",
        "from json import dumps,loads\n",
        "import json\n",
        "# importing s3filesystem for mount an Amazon S3 bucket as a local file system\n",
        "from s3fs import S3FileSystem"
      ]
    },
    {
      "cell_type": "code",
      "execution_count": null,
      "id": "ed412ebc",
      "metadata": {
        "id": "ed412ebc"
      },
      "outputs": [],
      "source": [
        "# here we are writing code for kafka consumer so can it can take data from kafka producer \n",
        "consumer = KafkaConsumer(\n",
        "    'kafka_project',\n",
        "     bootstrap_servers=['here put you ec2 ip address:9092'], \n",
        "    value_deserializer=lambda x: loads(x.decode('utf-8')))"
      ]
    },
    {
      "cell_type": "code",
      "execution_count": null,
      "id": "68f89c07",
      "metadata": {
        "id": "68f89c07"
      },
      "outputs": [],
      "source": [
        "s3 = S3FileSystem()\n"
      ]
    },
    {
      "cell_type": "code",
      "execution_count": null,
      "id": "4729442e",
      "metadata": {
        "id": "4729442e"
      },
      "outputs": [],
      "source": [
        "# here we are writting code for sending the data from consumer to s3 bucket\n",
        "for count, i in enumerate(consumer):\n",
        "    with s3.open(\"s3://kafka-stock-market-project-jitendra/stock_market_{}.json\".format(count), 'w') as file:\n",
        "        json.dump(i.value, file)"
      ]
    }
  ],
  "metadata": {
    "kernelspec": {
      "display_name": "Python 3 (ipykernel)",
      "language": "python",
      "name": "python3"
    },
    "language_info": {
      "codemirror_mode": {
        "name": "ipython",
        "version": 3
      },
      "file_extension": ".py",
      "mimetype": "text/x-python",
      "name": "python",
      "nbconvert_exporter": "python",
      "pygments_lexer": "ipython3",
      "version": "3.11.2"
    },
    "colab": {
      "provenance": []
    }
  },
  "nbformat": 4,
  "nbformat_minor": 5
}